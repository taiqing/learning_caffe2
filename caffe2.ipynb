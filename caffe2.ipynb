{
 "cells": [
  {
   "cell_type": "code",
   "execution_count": 7,
   "metadata": {},
   "outputs": [],
   "source": [
    "from caffe2.python import workspace, model_helper\n",
    "from caffe2.python import core, schema\n",
    "import numpy as np"
   ]
  },
  {
   "cell_type": "markdown",
   "metadata": {},
   "source": [
    "# Three ways to use operators"
   ]
  },
  {
   "cell_type": "code",
   "execution_count": 12,
   "metadata": {},
   "outputs": [
    {
     "data": {
      "text/plain": [
       "[array([0, 1, 2], dtype=int64), array([[0, 1, 2],\n",
       "        [0, 1, 2]], dtype=int64), array([1, 1], dtype=int32)]"
      ]
     },
     "execution_count": 12,
     "metadata": {},
     "output_type": "execute_result"
    }
   ],
   "source": [
    "workspace.ResetWorkspace()\n",
    "workspace.FeedBlob('a', np.array([0, 1, 2]))\n",
    "m = model_helper.ModelHelper('my_net')\n",
    "m.net.Concat(['a', 'a'], ['concat', 'concat_split'], axis=0, add_axis=1)\n",
    "workspace.RunNetOnce(m.net)\n",
    "workspace.FetchBlobs(workspace.Blobs())"
   ]
  },
  {
   "cell_type": "code",
   "execution_count": 15,
   "metadata": {},
   "outputs": [
    {
     "data": {
      "text/plain": [
       "[array([0, 1, 2], dtype=int64),\n",
       " array([0, 1, 2], dtype=int64),\n",
       " array([[0, 1, 2],\n",
       "        [0, 1, 2]], dtype=int64),\n",
       " array([1, 1], dtype=int32)]"
      ]
     },
     "execution_count": 15,
     "metadata": {},
     "output_type": "execute_result"
    }
   ],
   "source": [
    "workspace.ResetWorkspace()\n",
    "op = core.CreateOperator(\n",
    "    \"Concat\",\n",
    "    [\"X1\",  \"X2\"],\n",
    "    [\"Y\", \"split_info\"],\n",
    "    axis=0, \n",
    "    add_axis=1\n",
    ")\n",
    "workspace.FeedBlob(\"X1\", np.array([0, 1, 2]))\n",
    "workspace.FeedBlob(\"X2\", np.array([0, 1, 2]))\n",
    "workspace.RunOperatorOnce(op)\n",
    "workspace.FetchBlobs(workspace.Blobs())"
   ]
  },
  {
   "cell_type": "code",
   "execution_count": 16,
   "metadata": {},
   "outputs": [
    {
     "data": {
      "text/plain": [
       "[array([0, 1, 2], dtype=int64), array([[0, 1, 2],\n",
       "        [0, 1, 2]], dtype=int64), array([1, 1], dtype=int32)]"
      ]
     },
     "execution_count": 16,
     "metadata": {},
     "output_type": "execute_result"
    }
   ],
   "source": [
    "workspace.ResetWorkspace()\n",
    "net = core.Net('my_net')\n",
    "workspace.FeedBlob('a', np.array([0, 1, 2]))\n",
    "net.Concat(['a', 'a'], ['concat', 'split'], axis=0, add_axis=1)\n",
    "workspace.RunNetOnce(m.net)\n",
    "workspace.FetchBlobs(workspace.Blobs())"
   ]
  },
  {
   "cell_type": "code",
   "execution_count": null,
   "metadata": {},
   "outputs": [],
   "source": []
  }
 ],
 "metadata": {
  "kernelspec": {
   "display_name": "Python 3",
   "language": "python",
   "name": "python3"
  },
  "language_info": {
   "codemirror_mode": {
    "name": "ipython",
    "version": 3
   },
   "file_extension": ".py",
   "mimetype": "text/x-python",
   "name": "python",
   "nbconvert_exporter": "python",
   "pygments_lexer": "ipython3",
   "version": "3.7.4"
  }
 },
 "nbformat": 4,
 "nbformat_minor": 2
}
